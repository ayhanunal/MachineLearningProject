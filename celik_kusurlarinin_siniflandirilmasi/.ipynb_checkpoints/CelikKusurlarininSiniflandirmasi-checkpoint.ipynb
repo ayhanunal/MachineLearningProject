{
 "cells": [
  {
   "cell_type": "code",
   "execution_count": 162,
   "metadata": {},
   "outputs": [
    {
     "name": "stdout",
     "output_type": "stream",
     "text": [
      "['faults.csv']\n"
     ]
    }
   ],
   "source": [
    "#Gerekli Kütüphanelerin İmport Edilmesi\n",
    "\n",
    "import numpy as np # linear cebir işleri için\n",
    "import pandas as pd # Veri işlemek için\n",
    "\n",
    "#Görselleştirme - Grafik\n",
    "import matplotlib.pyplot as plt\n",
    "import seaborn as sns\n",
    "\n",
    "#Makine Öğrenmesi \n",
    "from sklearn.metrics import classification_report, confusion_matrix,accuracy_score\n",
    "from sklearn.preprocessing import StandardScaler\n",
    "from sklearn.tree import DecisionTreeClassifier\n",
    "from sklearn.neighbors import KNeighborsClassifier\n",
    "from sklearn.neural_network import MLPClassifier\n",
    "from sklearn.svm import SVC\n",
    "from sklearn.linear_model import LogisticRegression\n",
    "\n",
    "\n",
    "from sklearn.model_selection import train_test_split, GridSearchCV\n",
    "from sklearn import preprocessing\n",
    "\n",
    "#Sistem \n",
    "import os\n",
    "import warnings\n",
    "\n",
    "#Uyarıları kapatmak için \n",
    "warnings.filterwarnings('ignore')\n",
    "print(os.listdir(\"../celik_kusurlarinin_siniflandirilmasi/veri\"))"
   ]
  },
  {
   "cell_type": "markdown",
   "metadata": {},
   "source": [
    "# Veri Seti Hakkında Bilgi"
   ]
  },
  {
   "cell_type": "markdown",
   "metadata": {},
   "source": [
    "Bu veri seti, Semeion, İletişim Bilimleri Araştırma Merkezi tarafından yapılan araştırmalardan elde edilmiştir.. Araştırmanın asıl amacı, paslanmaz çelik plakalardaki yüzey kusurlarının tipini altı tip olası kusur (artı “diğer”) ile doğru bir şekilde sınıflandırmaktı. Özellik vektörü, kusurun geometrik şeklini ve taslağını yaklaşık olarak tanımlayan 27 özellikten oluşturulmuştur. Araştırma öyküsüne göre, Semeion bu görev için Centro Sviluppo Materiali (İtalya) kurumu tarafından görevlendirilmiştir ve bu nedenle özellik vektörleri olarak kullanılan 27 özelliğin niteliği veya 6 sınıf kusur tipi hakkında ayrıntılı bilgi vermek mümkün değildir.\n",
    "\n",
    "-Veri setinde 34 özellik vardır. İlk 27 özellik, görüntülerde görülen bir çeşit çelik levha hatasını içerir. Son 7 sütun, kodlanmış sınıflardır, yani plaka arızası \"Stains\" olarak sınıflandırılırsa, o sütunda 1 ve diğer sütunlarda 0 olur. Yani son 7 sınıf özellik vektörünün etiketidir. Son yedi özellik şöyledir; Pastry Z_Scratch K_Scatch Stains Dirtiness Bumps Other_Faults\n",
    "\n",
    "- Veri Setinin Linki : https://www.kaggle.com/uciml/faulty-steel-plates"
   ]
  },
  {
   "cell_type": "code",
   "execution_count": 32,
   "metadata": {},
   "outputs": [
    {
     "data": {
      "text/html": [
       "<div>\n",
       "<style scoped>\n",
       "    .dataframe tbody tr th:only-of-type {\n",
       "        vertical-align: middle;\n",
       "    }\n",
       "\n",
       "    .dataframe tbody tr th {\n",
       "        vertical-align: top;\n",
       "    }\n",
       "\n",
       "    .dataframe thead th {\n",
       "        text-align: right;\n",
       "    }\n",
       "</style>\n",
       "<table border=\"1\" class=\"dataframe\">\n",
       "  <thead>\n",
       "    <tr style=\"text-align: right;\">\n",
       "      <th></th>\n",
       "      <th>X_Minimum</th>\n",
       "      <th>X_Maximum</th>\n",
       "      <th>Y_Minimum</th>\n",
       "      <th>Y_Maximum</th>\n",
       "      <th>Pixels_Areas</th>\n",
       "      <th>X_Perimeter</th>\n",
       "      <th>Y_Perimeter</th>\n",
       "      <th>Sum_of_Luminosity</th>\n",
       "      <th>Minimum_of_Luminosity</th>\n",
       "      <th>Maximum_of_Luminosity</th>\n",
       "      <th>...</th>\n",
       "      <th>Orientation_Index</th>\n",
       "      <th>Luminosity_Index</th>\n",
       "      <th>SigmoidOfAreas</th>\n",
       "      <th>Pastry</th>\n",
       "      <th>Z_Scratch</th>\n",
       "      <th>K_Scatch</th>\n",
       "      <th>Stains</th>\n",
       "      <th>Dirtiness</th>\n",
       "      <th>Bumps</th>\n",
       "      <th>Other_Faults</th>\n",
       "    </tr>\n",
       "  </thead>\n",
       "  <tbody>\n",
       "    <tr>\n",
       "      <th>0</th>\n",
       "      <td>42</td>\n",
       "      <td>50</td>\n",
       "      <td>270900</td>\n",
       "      <td>270944</td>\n",
       "      <td>267</td>\n",
       "      <td>17</td>\n",
       "      <td>44</td>\n",
       "      <td>24220</td>\n",
       "      <td>76</td>\n",
       "      <td>108</td>\n",
       "      <td>...</td>\n",
       "      <td>0.8182</td>\n",
       "      <td>-0.2913</td>\n",
       "      <td>0.5822</td>\n",
       "      <td>1</td>\n",
       "      <td>0</td>\n",
       "      <td>0</td>\n",
       "      <td>0</td>\n",
       "      <td>0</td>\n",
       "      <td>0</td>\n",
       "      <td>0</td>\n",
       "    </tr>\n",
       "    <tr>\n",
       "      <th>1</th>\n",
       "      <td>645</td>\n",
       "      <td>651</td>\n",
       "      <td>2538079</td>\n",
       "      <td>2538108</td>\n",
       "      <td>108</td>\n",
       "      <td>10</td>\n",
       "      <td>30</td>\n",
       "      <td>11397</td>\n",
       "      <td>84</td>\n",
       "      <td>123</td>\n",
       "      <td>...</td>\n",
       "      <td>0.7931</td>\n",
       "      <td>-0.1756</td>\n",
       "      <td>0.2984</td>\n",
       "      <td>1</td>\n",
       "      <td>0</td>\n",
       "      <td>0</td>\n",
       "      <td>0</td>\n",
       "      <td>0</td>\n",
       "      <td>0</td>\n",
       "      <td>0</td>\n",
       "    </tr>\n",
       "    <tr>\n",
       "      <th>2</th>\n",
       "      <td>829</td>\n",
       "      <td>835</td>\n",
       "      <td>1553913</td>\n",
       "      <td>1553931</td>\n",
       "      <td>71</td>\n",
       "      <td>8</td>\n",
       "      <td>19</td>\n",
       "      <td>7972</td>\n",
       "      <td>99</td>\n",
       "      <td>125</td>\n",
       "      <td>...</td>\n",
       "      <td>0.6667</td>\n",
       "      <td>-0.1228</td>\n",
       "      <td>0.2150</td>\n",
       "      <td>1</td>\n",
       "      <td>0</td>\n",
       "      <td>0</td>\n",
       "      <td>0</td>\n",
       "      <td>0</td>\n",
       "      <td>0</td>\n",
       "      <td>0</td>\n",
       "    </tr>\n",
       "    <tr>\n",
       "      <th>3</th>\n",
       "      <td>853</td>\n",
       "      <td>860</td>\n",
       "      <td>369370</td>\n",
       "      <td>369415</td>\n",
       "      <td>176</td>\n",
       "      <td>13</td>\n",
       "      <td>45</td>\n",
       "      <td>18996</td>\n",
       "      <td>99</td>\n",
       "      <td>126</td>\n",
       "      <td>...</td>\n",
       "      <td>0.8444</td>\n",
       "      <td>-0.1568</td>\n",
       "      <td>0.5212</td>\n",
       "      <td>1</td>\n",
       "      <td>0</td>\n",
       "      <td>0</td>\n",
       "      <td>0</td>\n",
       "      <td>0</td>\n",
       "      <td>0</td>\n",
       "      <td>0</td>\n",
       "    </tr>\n",
       "    <tr>\n",
       "      <th>4</th>\n",
       "      <td>1289</td>\n",
       "      <td>1306</td>\n",
       "      <td>498078</td>\n",
       "      <td>498335</td>\n",
       "      <td>2409</td>\n",
       "      <td>60</td>\n",
       "      <td>260</td>\n",
       "      <td>246930</td>\n",
       "      <td>37</td>\n",
       "      <td>126</td>\n",
       "      <td>...</td>\n",
       "      <td>0.9338</td>\n",
       "      <td>-0.1992</td>\n",
       "      <td>1.0000</td>\n",
       "      <td>1</td>\n",
       "      <td>0</td>\n",
       "      <td>0</td>\n",
       "      <td>0</td>\n",
       "      <td>0</td>\n",
       "      <td>0</td>\n",
       "      <td>0</td>\n",
       "    </tr>\n",
       "  </tbody>\n",
       "</table>\n",
       "<p>5 rows × 34 columns</p>\n",
       "</div>"
      ],
      "text/plain": [
       "   X_Minimum  X_Maximum  Y_Minimum  Y_Maximum  Pixels_Areas  X_Perimeter  \\\n",
       "0         42         50     270900     270944           267           17   \n",
       "1        645        651    2538079    2538108           108           10   \n",
       "2        829        835    1553913    1553931            71            8   \n",
       "3        853        860     369370     369415           176           13   \n",
       "4       1289       1306     498078     498335          2409           60   \n",
       "\n",
       "   Y_Perimeter  Sum_of_Luminosity  Minimum_of_Luminosity  \\\n",
       "0           44              24220                     76   \n",
       "1           30              11397                     84   \n",
       "2           19               7972                     99   \n",
       "3           45              18996                     99   \n",
       "4          260             246930                     37   \n",
       "\n",
       "   Maximum_of_Luminosity  ...  Orientation_Index  Luminosity_Index  \\\n",
       "0                    108  ...             0.8182           -0.2913   \n",
       "1                    123  ...             0.7931           -0.1756   \n",
       "2                    125  ...             0.6667           -0.1228   \n",
       "3                    126  ...             0.8444           -0.1568   \n",
       "4                    126  ...             0.9338           -0.1992   \n",
       "\n",
       "   SigmoidOfAreas  Pastry  Z_Scratch  K_Scatch  Stains  Dirtiness  Bumps  \\\n",
       "0          0.5822       1          0         0       0          0      0   \n",
       "1          0.2984       1          0         0       0          0      0   \n",
       "2          0.2150       1          0         0       0          0      0   \n",
       "3          0.5212       1          0         0       0          0      0   \n",
       "4          1.0000       1          0         0       0          0      0   \n",
       "\n",
       "   Other_Faults  \n",
       "0             0  \n",
       "1             0  \n",
       "2             0  \n",
       "3             0  \n",
       "4             0  \n",
       "\n",
       "[5 rows x 34 columns]"
      ]
     },
     "execution_count": 32,
     "metadata": {},
     "output_type": "execute_result"
    }
   ],
   "source": [
    "data=pd.read_csv(\"../celik_kusurlarinin_siniflandirilmasi/veri/faults.csv\")\n",
    "df = data.copy()\n",
    "df.head()"
   ]
  },
  {
   "cell_type": "code",
   "execution_count": 33,
   "metadata": {},
   "outputs": [
    {
     "name": "stdout",
     "output_type": "stream",
     "text": [
      "<class 'pandas.core.frame.DataFrame'>\n",
      "RangeIndex: 1941 entries, 0 to 1940\n",
      "Data columns (total 34 columns):\n",
      "X_Minimum                1941 non-null int64\n",
      "X_Maximum                1941 non-null int64\n",
      "Y_Minimum                1941 non-null int64\n",
      "Y_Maximum                1941 non-null int64\n",
      "Pixels_Areas             1941 non-null int64\n",
      "X_Perimeter              1941 non-null int64\n",
      "Y_Perimeter              1941 non-null int64\n",
      "Sum_of_Luminosity        1941 non-null int64\n",
      "Minimum_of_Luminosity    1941 non-null int64\n",
      "Maximum_of_Luminosity    1941 non-null int64\n",
      "Length_of_Conveyer       1941 non-null int64\n",
      "TypeOfSteel_A300         1941 non-null int64\n",
      "TypeOfSteel_A400         1941 non-null int64\n",
      "Steel_Plate_Thickness    1941 non-null int64\n",
      "Edges_Index              1941 non-null float64\n",
      "Empty_Index              1941 non-null float64\n",
      "Square_Index             1941 non-null float64\n",
      "Outside_X_Index          1941 non-null float64\n",
      "Edges_X_Index            1941 non-null float64\n",
      "Edges_Y_Index            1941 non-null float64\n",
      "Outside_Global_Index     1941 non-null float64\n",
      "LogOfAreas               1941 non-null float64\n",
      "Log_X_Index              1941 non-null float64\n",
      "Log_Y_Index              1941 non-null float64\n",
      "Orientation_Index        1941 non-null float64\n",
      "Luminosity_Index         1941 non-null float64\n",
      "SigmoidOfAreas           1941 non-null float64\n",
      "Pastry                   1941 non-null int64\n",
      "Z_Scratch                1941 non-null int64\n",
      "K_Scatch                 1941 non-null int64\n",
      "Stains                   1941 non-null int64\n",
      "Dirtiness                1941 non-null int64\n",
      "Bumps                    1941 non-null int64\n",
      "Other_Faults             1941 non-null int64\n",
      "dtypes: float64(13), int64(21)\n",
      "memory usage: 515.7 KB\n"
     ]
    }
   ],
   "source": [
    "df.info()"
   ]
  },
  {
   "cell_type": "code",
   "execution_count": 34,
   "metadata": {
    "scrolled": true
   },
   "outputs": [
    {
     "data": {
      "text/plain": [
       "X_Minimum                0\n",
       "X_Maximum                0\n",
       "Y_Minimum                0\n",
       "Y_Maximum                0\n",
       "Pixels_Areas             0\n",
       "X_Perimeter              0\n",
       "Y_Perimeter              0\n",
       "Sum_of_Luminosity        0\n",
       "Minimum_of_Luminosity    0\n",
       "Maximum_of_Luminosity    0\n",
       "Length_of_Conveyer       0\n",
       "TypeOfSteel_A300         0\n",
       "TypeOfSteel_A400         0\n",
       "Steel_Plate_Thickness    0\n",
       "Edges_Index              0\n",
       "Empty_Index              0\n",
       "Square_Index             0\n",
       "Outside_X_Index          0\n",
       "Edges_X_Index            0\n",
       "Edges_Y_Index            0\n",
       "Outside_Global_Index     0\n",
       "LogOfAreas               0\n",
       "Log_X_Index              0\n",
       "Log_Y_Index              0\n",
       "Orientation_Index        0\n",
       "Luminosity_Index         0\n",
       "SigmoidOfAreas           0\n",
       "Pastry                   0\n",
       "Z_Scratch                0\n",
       "K_Scatch                 0\n",
       "Stains                   0\n",
       "Dirtiness                0\n",
       "Bumps                    0\n",
       "Other_Faults             0\n",
       "dtype: int64"
      ]
     },
     "execution_count": 34,
     "metadata": {},
     "output_type": "execute_result"
    }
   ],
   "source": [
    "df.isnull().sum()"
   ]
  },
  {
   "cell_type": "code",
   "execution_count": 35,
   "metadata": {
    "scrolled": true
   },
   "outputs": [
    {
     "data": {
      "text/plain": [
       "(1941, 34)"
      ]
     },
     "execution_count": 35,
     "metadata": {},
     "output_type": "execute_result"
    }
   ],
   "source": [
    "df.shape"
   ]
  },
  {
   "cell_type": "markdown",
   "metadata": {},
   "source": [
    "# Veri Seti Değerlendirme"
   ]
  },
  {
   "cell_type": "markdown",
   "metadata": {},
   "source": [
    "Yukarıda yer alan bilglere bakarak veri seti hakkında şunları söylebiliriz:\n",
    "\n",
    "-Veri seti 1941 örnekten oluşuyor.\n",
    "\n",
    "-Eksik veri yok.\n",
    "\n",
    "-Tüm veriler sayısaldır.(int ve float)\n",
    "\n",
    "-Son yedi sütun etiket sütunlarıdır."
   ]
  },
  {
   "cell_type": "markdown",
   "metadata": {},
   "source": [
    "# Kusur Sınıflarını Tek Değişkende Toplama"
   ]
  },
  {
   "cell_type": "markdown",
   "metadata": {},
   "source": [
    "'Pastry', 'Z_Scratch', 'K_Scatch', 'Stains', 'Dirtiness', 'Bumps' ve 'Other_Faults' sütunları, örneğe ait sınıfları tutmaktadır. Bu etiket sütunlarını 'sinif' sütunu altında toplayalım (Tahmini yapabilmek için)"
   ]
  },
  {
   "cell_type": "code",
   "execution_count": 36,
   "metadata": {},
   "outputs": [],
   "source": [
    "#Kusur sınıfını gösteren sütünlar (son 7 sutun)\n",
    "etiket_sinifi=df.columns.values[-7:]\n",
    "\n",
    "#Kusur sınıfını gösteren sütünlar 'target' sütünu altında toplanıyor\n",
    "#axis = 1 satır işlemi yapmak için axis = 0 sütün işlemi yapmak için kullanılır.\n",
    "# idxmax, Maksimum değerin satır etiketini döndürür.\n",
    "hedef=(df.iloc[:,-7:]==1).idxmax(1) \n",
    "\n",
    "#Kusur sınıfını gösteren sütünlar veri setinden çıkartılır\n",
    "df=df.drop(etiket_sinifi,axis=1)\n",
    "\n",
    "#Oluşturulan target sınıfı veri setine ekleniyor\n",
    "df['sinif']=hedef"
   ]
  },
  {
   "cell_type": "code",
   "execution_count": 37,
   "metadata": {},
   "outputs": [
    {
     "data": {
      "text/html": [
       "<div>\n",
       "<style scoped>\n",
       "    .dataframe tbody tr th:only-of-type {\n",
       "        vertical-align: middle;\n",
       "    }\n",
       "\n",
       "    .dataframe tbody tr th {\n",
       "        vertical-align: top;\n",
       "    }\n",
       "\n",
       "    .dataframe thead th {\n",
       "        text-align: right;\n",
       "    }\n",
       "</style>\n",
       "<table border=\"1\" class=\"dataframe\">\n",
       "  <thead>\n",
       "    <tr style=\"text-align: right;\">\n",
       "      <th></th>\n",
       "      <th>X_Minimum</th>\n",
       "      <th>X_Maximum</th>\n",
       "      <th>Y_Minimum</th>\n",
       "      <th>Y_Maximum</th>\n",
       "      <th>Pixels_Areas</th>\n",
       "      <th>X_Perimeter</th>\n",
       "      <th>Y_Perimeter</th>\n",
       "      <th>Sum_of_Luminosity</th>\n",
       "      <th>Minimum_of_Luminosity</th>\n",
       "      <th>Maximum_of_Luminosity</th>\n",
       "      <th>...</th>\n",
       "      <th>Edges_X_Index</th>\n",
       "      <th>Edges_Y_Index</th>\n",
       "      <th>Outside_Global_Index</th>\n",
       "      <th>LogOfAreas</th>\n",
       "      <th>Log_X_Index</th>\n",
       "      <th>Log_Y_Index</th>\n",
       "      <th>Orientation_Index</th>\n",
       "      <th>Luminosity_Index</th>\n",
       "      <th>SigmoidOfAreas</th>\n",
       "      <th>sinif</th>\n",
       "    </tr>\n",
       "  </thead>\n",
       "  <tbody>\n",
       "    <tr>\n",
       "      <th>0</th>\n",
       "      <td>42</td>\n",
       "      <td>50</td>\n",
       "      <td>270900</td>\n",
       "      <td>270944</td>\n",
       "      <td>267</td>\n",
       "      <td>17</td>\n",
       "      <td>44</td>\n",
       "      <td>24220</td>\n",
       "      <td>76</td>\n",
       "      <td>108</td>\n",
       "      <td>...</td>\n",
       "      <td>0.4706</td>\n",
       "      <td>1.0000</td>\n",
       "      <td>1.0</td>\n",
       "      <td>2.4265</td>\n",
       "      <td>0.9031</td>\n",
       "      <td>1.6435</td>\n",
       "      <td>0.8182</td>\n",
       "      <td>-0.2913</td>\n",
       "      <td>0.5822</td>\n",
       "      <td>Pastry</td>\n",
       "    </tr>\n",
       "    <tr>\n",
       "      <th>1</th>\n",
       "      <td>645</td>\n",
       "      <td>651</td>\n",
       "      <td>2538079</td>\n",
       "      <td>2538108</td>\n",
       "      <td>108</td>\n",
       "      <td>10</td>\n",
       "      <td>30</td>\n",
       "      <td>11397</td>\n",
       "      <td>84</td>\n",
       "      <td>123</td>\n",
       "      <td>...</td>\n",
       "      <td>0.6000</td>\n",
       "      <td>0.9667</td>\n",
       "      <td>1.0</td>\n",
       "      <td>2.0334</td>\n",
       "      <td>0.7782</td>\n",
       "      <td>1.4624</td>\n",
       "      <td>0.7931</td>\n",
       "      <td>-0.1756</td>\n",
       "      <td>0.2984</td>\n",
       "      <td>Pastry</td>\n",
       "    </tr>\n",
       "    <tr>\n",
       "      <th>2</th>\n",
       "      <td>829</td>\n",
       "      <td>835</td>\n",
       "      <td>1553913</td>\n",
       "      <td>1553931</td>\n",
       "      <td>71</td>\n",
       "      <td>8</td>\n",
       "      <td>19</td>\n",
       "      <td>7972</td>\n",
       "      <td>99</td>\n",
       "      <td>125</td>\n",
       "      <td>...</td>\n",
       "      <td>0.7500</td>\n",
       "      <td>0.9474</td>\n",
       "      <td>1.0</td>\n",
       "      <td>1.8513</td>\n",
       "      <td>0.7782</td>\n",
       "      <td>1.2553</td>\n",
       "      <td>0.6667</td>\n",
       "      <td>-0.1228</td>\n",
       "      <td>0.2150</td>\n",
       "      <td>Pastry</td>\n",
       "    </tr>\n",
       "    <tr>\n",
       "      <th>3</th>\n",
       "      <td>853</td>\n",
       "      <td>860</td>\n",
       "      <td>369370</td>\n",
       "      <td>369415</td>\n",
       "      <td>176</td>\n",
       "      <td>13</td>\n",
       "      <td>45</td>\n",
       "      <td>18996</td>\n",
       "      <td>99</td>\n",
       "      <td>126</td>\n",
       "      <td>...</td>\n",
       "      <td>0.5385</td>\n",
       "      <td>1.0000</td>\n",
       "      <td>1.0</td>\n",
       "      <td>2.2455</td>\n",
       "      <td>0.8451</td>\n",
       "      <td>1.6532</td>\n",
       "      <td>0.8444</td>\n",
       "      <td>-0.1568</td>\n",
       "      <td>0.5212</td>\n",
       "      <td>Pastry</td>\n",
       "    </tr>\n",
       "    <tr>\n",
       "      <th>4</th>\n",
       "      <td>1289</td>\n",
       "      <td>1306</td>\n",
       "      <td>498078</td>\n",
       "      <td>498335</td>\n",
       "      <td>2409</td>\n",
       "      <td>60</td>\n",
       "      <td>260</td>\n",
       "      <td>246930</td>\n",
       "      <td>37</td>\n",
       "      <td>126</td>\n",
       "      <td>...</td>\n",
       "      <td>0.2833</td>\n",
       "      <td>0.9885</td>\n",
       "      <td>1.0</td>\n",
       "      <td>3.3818</td>\n",
       "      <td>1.2305</td>\n",
       "      <td>2.4099</td>\n",
       "      <td>0.9338</td>\n",
       "      <td>-0.1992</td>\n",
       "      <td>1.0000</td>\n",
       "      <td>Pastry</td>\n",
       "    </tr>\n",
       "  </tbody>\n",
       "</table>\n",
       "<p>5 rows × 28 columns</p>\n",
       "</div>"
      ],
      "text/plain": [
       "   X_Minimum  X_Maximum  Y_Minimum  Y_Maximum  Pixels_Areas  X_Perimeter  \\\n",
       "0         42         50     270900     270944           267           17   \n",
       "1        645        651    2538079    2538108           108           10   \n",
       "2        829        835    1553913    1553931            71            8   \n",
       "3        853        860     369370     369415           176           13   \n",
       "4       1289       1306     498078     498335          2409           60   \n",
       "\n",
       "   Y_Perimeter  Sum_of_Luminosity  Minimum_of_Luminosity  \\\n",
       "0           44              24220                     76   \n",
       "1           30              11397                     84   \n",
       "2           19               7972                     99   \n",
       "3           45              18996                     99   \n",
       "4          260             246930                     37   \n",
       "\n",
       "   Maximum_of_Luminosity  ...  Edges_X_Index  Edges_Y_Index  \\\n",
       "0                    108  ...         0.4706         1.0000   \n",
       "1                    123  ...         0.6000         0.9667   \n",
       "2                    125  ...         0.7500         0.9474   \n",
       "3                    126  ...         0.5385         1.0000   \n",
       "4                    126  ...         0.2833         0.9885   \n",
       "\n",
       "   Outside_Global_Index  LogOfAreas  Log_X_Index  Log_Y_Index  \\\n",
       "0                   1.0      2.4265       0.9031       1.6435   \n",
       "1                   1.0      2.0334       0.7782       1.4624   \n",
       "2                   1.0      1.8513       0.7782       1.2553   \n",
       "3                   1.0      2.2455       0.8451       1.6532   \n",
       "4                   1.0      3.3818       1.2305       2.4099   \n",
       "\n",
       "   Orientation_Index  Luminosity_Index  SigmoidOfAreas   sinif  \n",
       "0             0.8182           -0.2913          0.5822  Pastry  \n",
       "1             0.7931           -0.1756          0.2984  Pastry  \n",
       "2             0.6667           -0.1228          0.2150  Pastry  \n",
       "3             0.8444           -0.1568          0.5212  Pastry  \n",
       "4             0.9338           -0.1992          1.0000  Pastry  \n",
       "\n",
       "[5 rows x 28 columns]"
      ]
     },
     "execution_count": 37,
     "metadata": {},
     "output_type": "execute_result"
    }
   ],
   "source": [
    "df.head()"
   ]
  },
  {
   "cell_type": "code",
   "execution_count": 38,
   "metadata": {},
   "outputs": [
    {
     "data": {
      "text/plain": [
       "(1941, 28)"
      ]
     },
     "execution_count": 38,
     "metadata": {},
     "output_type": "execute_result"
    }
   ],
   "source": [
    "df.shape #değişken sayısı 28' e düştü (7 sutun tek değişkende topladık.)"
   ]
  },
  {
   "cell_type": "code",
   "execution_count": 39,
   "metadata": {},
   "outputs": [
    {
     "data": {
      "text/html": [
       "<div>\n",
       "<style scoped>\n",
       "    .dataframe tbody tr th:only-of-type {\n",
       "        vertical-align: middle;\n",
       "    }\n",
       "\n",
       "    .dataframe tbody tr th {\n",
       "        vertical-align: top;\n",
       "    }\n",
       "\n",
       "    .dataframe thead th {\n",
       "        text-align: right;\n",
       "    }\n",
       "</style>\n",
       "<table border=\"1\" class=\"dataframe\">\n",
       "  <thead>\n",
       "    <tr style=\"text-align: right;\">\n",
       "      <th></th>\n",
       "      <th>count</th>\n",
       "      <th>mean</th>\n",
       "      <th>std</th>\n",
       "      <th>min</th>\n",
       "      <th>25%</th>\n",
       "      <th>50%</th>\n",
       "      <th>75%</th>\n",
       "      <th>max</th>\n",
       "    </tr>\n",
       "  </thead>\n",
       "  <tbody>\n",
       "    <tr>\n",
       "      <th>X_Minimum</th>\n",
       "      <td>1941.0</td>\n",
       "      <td>5.711360e+02</td>\n",
       "      <td>5.206907e+02</td>\n",
       "      <td>0.0000</td>\n",
       "      <td>51.0000</td>\n",
       "      <td>4.350000e+02</td>\n",
       "      <td>1.053000e+03</td>\n",
       "      <td>1.705000e+03</td>\n",
       "    </tr>\n",
       "    <tr>\n",
       "      <th>X_Maximum</th>\n",
       "      <td>1941.0</td>\n",
       "      <td>6.179645e+02</td>\n",
       "      <td>4.976274e+02</td>\n",
       "      <td>4.0000</td>\n",
       "      <td>192.0000</td>\n",
       "      <td>4.670000e+02</td>\n",
       "      <td>1.072000e+03</td>\n",
       "      <td>1.713000e+03</td>\n",
       "    </tr>\n",
       "    <tr>\n",
       "      <th>Y_Minimum</th>\n",
       "      <td>1941.0</td>\n",
       "      <td>1.650685e+06</td>\n",
       "      <td>1.774578e+06</td>\n",
       "      <td>6712.0000</td>\n",
       "      <td>471253.0000</td>\n",
       "      <td>1.204128e+06</td>\n",
       "      <td>2.183073e+06</td>\n",
       "      <td>1.298766e+07</td>\n",
       "    </tr>\n",
       "    <tr>\n",
       "      <th>Y_Maximum</th>\n",
       "      <td>1941.0</td>\n",
       "      <td>1.650739e+06</td>\n",
       "      <td>1.774590e+06</td>\n",
       "      <td>6724.0000</td>\n",
       "      <td>471281.0000</td>\n",
       "      <td>1.204136e+06</td>\n",
       "      <td>2.183084e+06</td>\n",
       "      <td>1.298769e+07</td>\n",
       "    </tr>\n",
       "    <tr>\n",
       "      <th>Pixels_Areas</th>\n",
       "      <td>1941.0</td>\n",
       "      <td>1.893878e+03</td>\n",
       "      <td>5.168460e+03</td>\n",
       "      <td>2.0000</td>\n",
       "      <td>84.0000</td>\n",
       "      <td>1.740000e+02</td>\n",
       "      <td>8.220000e+02</td>\n",
       "      <td>1.526550e+05</td>\n",
       "    </tr>\n",
       "    <tr>\n",
       "      <th>X_Perimeter</th>\n",
       "      <td>1941.0</td>\n",
       "      <td>1.118552e+02</td>\n",
       "      <td>3.012092e+02</td>\n",
       "      <td>2.0000</td>\n",
       "      <td>15.0000</td>\n",
       "      <td>2.600000e+01</td>\n",
       "      <td>8.400000e+01</td>\n",
       "      <td>1.044900e+04</td>\n",
       "    </tr>\n",
       "    <tr>\n",
       "      <th>Y_Perimeter</th>\n",
       "      <td>1941.0</td>\n",
       "      <td>8.296600e+01</td>\n",
       "      <td>4.264829e+02</td>\n",
       "      <td>1.0000</td>\n",
       "      <td>13.0000</td>\n",
       "      <td>2.500000e+01</td>\n",
       "      <td>8.300000e+01</td>\n",
       "      <td>1.815200e+04</td>\n",
       "    </tr>\n",
       "    <tr>\n",
       "      <th>Sum_of_Luminosity</th>\n",
       "      <td>1941.0</td>\n",
       "      <td>2.063121e+05</td>\n",
       "      <td>5.122936e+05</td>\n",
       "      <td>250.0000</td>\n",
       "      <td>9522.0000</td>\n",
       "      <td>1.920200e+04</td>\n",
       "      <td>8.301100e+04</td>\n",
       "      <td>1.159141e+07</td>\n",
       "    </tr>\n",
       "    <tr>\n",
       "      <th>Minimum_of_Luminosity</th>\n",
       "      <td>1941.0</td>\n",
       "      <td>8.454869e+01</td>\n",
       "      <td>3.213428e+01</td>\n",
       "      <td>0.0000</td>\n",
       "      <td>63.0000</td>\n",
       "      <td>9.000000e+01</td>\n",
       "      <td>1.060000e+02</td>\n",
       "      <td>2.030000e+02</td>\n",
       "    </tr>\n",
       "    <tr>\n",
       "      <th>Maximum_of_Luminosity</th>\n",
       "      <td>1941.0</td>\n",
       "      <td>1.301937e+02</td>\n",
       "      <td>1.869099e+01</td>\n",
       "      <td>37.0000</td>\n",
       "      <td>124.0000</td>\n",
       "      <td>1.270000e+02</td>\n",
       "      <td>1.400000e+02</td>\n",
       "      <td>2.530000e+02</td>\n",
       "    </tr>\n",
       "    <tr>\n",
       "      <th>Length_of_Conveyer</th>\n",
       "      <td>1941.0</td>\n",
       "      <td>1.459160e+03</td>\n",
       "      <td>1.445778e+02</td>\n",
       "      <td>1227.0000</td>\n",
       "      <td>1358.0000</td>\n",
       "      <td>1.364000e+03</td>\n",
       "      <td>1.650000e+03</td>\n",
       "      <td>1.794000e+03</td>\n",
       "    </tr>\n",
       "    <tr>\n",
       "      <th>TypeOfSteel_A300</th>\n",
       "      <td>1941.0</td>\n",
       "      <td>4.003091e-01</td>\n",
       "      <td>4.900872e-01</td>\n",
       "      <td>0.0000</td>\n",
       "      <td>0.0000</td>\n",
       "      <td>0.000000e+00</td>\n",
       "      <td>1.000000e+00</td>\n",
       "      <td>1.000000e+00</td>\n",
       "    </tr>\n",
       "    <tr>\n",
       "      <th>TypeOfSteel_A400</th>\n",
       "      <td>1941.0</td>\n",
       "      <td>5.996909e-01</td>\n",
       "      <td>4.900872e-01</td>\n",
       "      <td>0.0000</td>\n",
       "      <td>0.0000</td>\n",
       "      <td>1.000000e+00</td>\n",
       "      <td>1.000000e+00</td>\n",
       "      <td>1.000000e+00</td>\n",
       "    </tr>\n",
       "    <tr>\n",
       "      <th>Steel_Plate_Thickness</th>\n",
       "      <td>1941.0</td>\n",
       "      <td>7.873776e+01</td>\n",
       "      <td>5.508603e+01</td>\n",
       "      <td>40.0000</td>\n",
       "      <td>40.0000</td>\n",
       "      <td>7.000000e+01</td>\n",
       "      <td>8.000000e+01</td>\n",
       "      <td>3.000000e+02</td>\n",
       "    </tr>\n",
       "    <tr>\n",
       "      <th>Edges_Index</th>\n",
       "      <td>1941.0</td>\n",
       "      <td>3.317152e-01</td>\n",
       "      <td>2.997117e-01</td>\n",
       "      <td>0.0000</td>\n",
       "      <td>0.0604</td>\n",
       "      <td>2.273000e-01</td>\n",
       "      <td>5.738000e-01</td>\n",
       "      <td>9.952000e-01</td>\n",
       "    </tr>\n",
       "    <tr>\n",
       "      <th>Empty_Index</th>\n",
       "      <td>1941.0</td>\n",
       "      <td>4.142033e-01</td>\n",
       "      <td>1.372615e-01</td>\n",
       "      <td>0.0000</td>\n",
       "      <td>0.3158</td>\n",
       "      <td>4.121000e-01</td>\n",
       "      <td>5.016000e-01</td>\n",
       "      <td>9.439000e-01</td>\n",
       "    </tr>\n",
       "    <tr>\n",
       "      <th>Square_Index</th>\n",
       "      <td>1941.0</td>\n",
       "      <td>5.707671e-01</td>\n",
       "      <td>2.710584e-01</td>\n",
       "      <td>0.0083</td>\n",
       "      <td>0.3613</td>\n",
       "      <td>5.556000e-01</td>\n",
       "      <td>8.182000e-01</td>\n",
       "      <td>1.000000e+00</td>\n",
       "    </tr>\n",
       "    <tr>\n",
       "      <th>Outside_X_Index</th>\n",
       "      <td>1941.0</td>\n",
       "      <td>3.336110e-02</td>\n",
       "      <td>5.896117e-02</td>\n",
       "      <td>0.0015</td>\n",
       "      <td>0.0066</td>\n",
       "      <td>1.010000e-02</td>\n",
       "      <td>2.350000e-02</td>\n",
       "      <td>8.759000e-01</td>\n",
       "    </tr>\n",
       "    <tr>\n",
       "      <th>Edges_X_Index</th>\n",
       "      <td>1941.0</td>\n",
       "      <td>6.105286e-01</td>\n",
       "      <td>2.432769e-01</td>\n",
       "      <td>0.0144</td>\n",
       "      <td>0.4118</td>\n",
       "      <td>6.364000e-01</td>\n",
       "      <td>8.000000e-01</td>\n",
       "      <td>1.000000e+00</td>\n",
       "    </tr>\n",
       "    <tr>\n",
       "      <th>Edges_Y_Index</th>\n",
       "      <td>1941.0</td>\n",
       "      <td>8.134722e-01</td>\n",
       "      <td>2.342736e-01</td>\n",
       "      <td>0.0484</td>\n",
       "      <td>0.5968</td>\n",
       "      <td>9.474000e-01</td>\n",
       "      <td>1.000000e+00</td>\n",
       "      <td>1.000000e+00</td>\n",
       "    </tr>\n",
       "    <tr>\n",
       "      <th>Outside_Global_Index</th>\n",
       "      <td>1941.0</td>\n",
       "      <td>5.757342e-01</td>\n",
       "      <td>4.823520e-01</td>\n",
       "      <td>0.0000</td>\n",
       "      <td>0.0000</td>\n",
       "      <td>1.000000e+00</td>\n",
       "      <td>1.000000e+00</td>\n",
       "      <td>1.000000e+00</td>\n",
       "    </tr>\n",
       "    <tr>\n",
       "      <th>LogOfAreas</th>\n",
       "      <td>1941.0</td>\n",
       "      <td>2.492388e+00</td>\n",
       "      <td>7.889299e-01</td>\n",
       "      <td>0.3010</td>\n",
       "      <td>1.9243</td>\n",
       "      <td>2.240600e+00</td>\n",
       "      <td>2.914900e+00</td>\n",
       "      <td>5.183700e+00</td>\n",
       "    </tr>\n",
       "    <tr>\n",
       "      <th>Log_X_Index</th>\n",
       "      <td>1941.0</td>\n",
       "      <td>1.335686e+00</td>\n",
       "      <td>4.816116e-01</td>\n",
       "      <td>0.3010</td>\n",
       "      <td>1.0000</td>\n",
       "      <td>1.176100e+00</td>\n",
       "      <td>1.518500e+00</td>\n",
       "      <td>3.074100e+00</td>\n",
       "    </tr>\n",
       "    <tr>\n",
       "      <th>Log_Y_Index</th>\n",
       "      <td>1941.0</td>\n",
       "      <td>1.403271e+00</td>\n",
       "      <td>4.543452e-01</td>\n",
       "      <td>0.0000</td>\n",
       "      <td>1.0792</td>\n",
       "      <td>1.322200e+00</td>\n",
       "      <td>1.732400e+00</td>\n",
       "      <td>4.258700e+00</td>\n",
       "    </tr>\n",
       "    <tr>\n",
       "      <th>Orientation_Index</th>\n",
       "      <td>1941.0</td>\n",
       "      <td>8.328764e-02</td>\n",
       "      <td>5.008680e-01</td>\n",
       "      <td>-0.9910</td>\n",
       "      <td>-0.3333</td>\n",
       "      <td>9.520000e-02</td>\n",
       "      <td>5.116000e-01</td>\n",
       "      <td>9.917000e-01</td>\n",
       "    </tr>\n",
       "    <tr>\n",
       "      <th>Luminosity_Index</th>\n",
       "      <td>1941.0</td>\n",
       "      <td>-1.313050e-01</td>\n",
       "      <td>1.487668e-01</td>\n",
       "      <td>-0.9989</td>\n",
       "      <td>-0.1950</td>\n",
       "      <td>-1.330000e-01</td>\n",
       "      <td>-6.660000e-02</td>\n",
       "      <td>6.421000e-01</td>\n",
       "    </tr>\n",
       "    <tr>\n",
       "      <th>SigmoidOfAreas</th>\n",
       "      <td>1941.0</td>\n",
       "      <td>5.854205e-01</td>\n",
       "      <td>3.394518e-01</td>\n",
       "      <td>0.1190</td>\n",
       "      <td>0.2482</td>\n",
       "      <td>5.063000e-01</td>\n",
       "      <td>9.998000e-01</td>\n",
       "      <td>1.000000e+00</td>\n",
       "    </tr>\n",
       "  </tbody>\n",
       "</table>\n",
       "</div>"
      ],
      "text/plain": [
       "                        count          mean           std        min  \\\n",
       "X_Minimum              1941.0  5.711360e+02  5.206907e+02     0.0000   \n",
       "X_Maximum              1941.0  6.179645e+02  4.976274e+02     4.0000   \n",
       "Y_Minimum              1941.0  1.650685e+06  1.774578e+06  6712.0000   \n",
       "Y_Maximum              1941.0  1.650739e+06  1.774590e+06  6724.0000   \n",
       "Pixels_Areas           1941.0  1.893878e+03  5.168460e+03     2.0000   \n",
       "X_Perimeter            1941.0  1.118552e+02  3.012092e+02     2.0000   \n",
       "Y_Perimeter            1941.0  8.296600e+01  4.264829e+02     1.0000   \n",
       "Sum_of_Luminosity      1941.0  2.063121e+05  5.122936e+05   250.0000   \n",
       "Minimum_of_Luminosity  1941.0  8.454869e+01  3.213428e+01     0.0000   \n",
       "Maximum_of_Luminosity  1941.0  1.301937e+02  1.869099e+01    37.0000   \n",
       "Length_of_Conveyer     1941.0  1.459160e+03  1.445778e+02  1227.0000   \n",
       "TypeOfSteel_A300       1941.0  4.003091e-01  4.900872e-01     0.0000   \n",
       "TypeOfSteel_A400       1941.0  5.996909e-01  4.900872e-01     0.0000   \n",
       "Steel_Plate_Thickness  1941.0  7.873776e+01  5.508603e+01    40.0000   \n",
       "Edges_Index            1941.0  3.317152e-01  2.997117e-01     0.0000   \n",
       "Empty_Index            1941.0  4.142033e-01  1.372615e-01     0.0000   \n",
       "Square_Index           1941.0  5.707671e-01  2.710584e-01     0.0083   \n",
       "Outside_X_Index        1941.0  3.336110e-02  5.896117e-02     0.0015   \n",
       "Edges_X_Index          1941.0  6.105286e-01  2.432769e-01     0.0144   \n",
       "Edges_Y_Index          1941.0  8.134722e-01  2.342736e-01     0.0484   \n",
       "Outside_Global_Index   1941.0  5.757342e-01  4.823520e-01     0.0000   \n",
       "LogOfAreas             1941.0  2.492388e+00  7.889299e-01     0.3010   \n",
       "Log_X_Index            1941.0  1.335686e+00  4.816116e-01     0.3010   \n",
       "Log_Y_Index            1941.0  1.403271e+00  4.543452e-01     0.0000   \n",
       "Orientation_Index      1941.0  8.328764e-02  5.008680e-01    -0.9910   \n",
       "Luminosity_Index       1941.0 -1.313050e-01  1.487668e-01    -0.9989   \n",
       "SigmoidOfAreas         1941.0  5.854205e-01  3.394518e-01     0.1190   \n",
       "\n",
       "                               25%           50%           75%           max  \n",
       "X_Minimum                  51.0000  4.350000e+02  1.053000e+03  1.705000e+03  \n",
       "X_Maximum                 192.0000  4.670000e+02  1.072000e+03  1.713000e+03  \n",
       "Y_Minimum              471253.0000  1.204128e+06  2.183073e+06  1.298766e+07  \n",
       "Y_Maximum              471281.0000  1.204136e+06  2.183084e+06  1.298769e+07  \n",
       "Pixels_Areas               84.0000  1.740000e+02  8.220000e+02  1.526550e+05  \n",
       "X_Perimeter                15.0000  2.600000e+01  8.400000e+01  1.044900e+04  \n",
       "Y_Perimeter                13.0000  2.500000e+01  8.300000e+01  1.815200e+04  \n",
       "Sum_of_Luminosity        9522.0000  1.920200e+04  8.301100e+04  1.159141e+07  \n",
       "Minimum_of_Luminosity      63.0000  9.000000e+01  1.060000e+02  2.030000e+02  \n",
       "Maximum_of_Luminosity     124.0000  1.270000e+02  1.400000e+02  2.530000e+02  \n",
       "Length_of_Conveyer       1358.0000  1.364000e+03  1.650000e+03  1.794000e+03  \n",
       "TypeOfSteel_A300            0.0000  0.000000e+00  1.000000e+00  1.000000e+00  \n",
       "TypeOfSteel_A400            0.0000  1.000000e+00  1.000000e+00  1.000000e+00  \n",
       "Steel_Plate_Thickness      40.0000  7.000000e+01  8.000000e+01  3.000000e+02  \n",
       "Edges_Index                 0.0604  2.273000e-01  5.738000e-01  9.952000e-01  \n",
       "Empty_Index                 0.3158  4.121000e-01  5.016000e-01  9.439000e-01  \n",
       "Square_Index                0.3613  5.556000e-01  8.182000e-01  1.000000e+00  \n",
       "Outside_X_Index             0.0066  1.010000e-02  2.350000e-02  8.759000e-01  \n",
       "Edges_X_Index               0.4118  6.364000e-01  8.000000e-01  1.000000e+00  \n",
       "Edges_Y_Index               0.5968  9.474000e-01  1.000000e+00  1.000000e+00  \n",
       "Outside_Global_Index        0.0000  1.000000e+00  1.000000e+00  1.000000e+00  \n",
       "LogOfAreas                  1.9243  2.240600e+00  2.914900e+00  5.183700e+00  \n",
       "Log_X_Index                 1.0000  1.176100e+00  1.518500e+00  3.074100e+00  \n",
       "Log_Y_Index                 1.0792  1.322200e+00  1.732400e+00  4.258700e+00  \n",
       "Orientation_Index          -0.3333  9.520000e-02  5.116000e-01  9.917000e-01  \n",
       "Luminosity_Index           -0.1950 -1.330000e-01 -6.660000e-02  6.421000e-01  \n",
       "SigmoidOfAreas              0.2482  5.063000e-01  9.998000e-01  1.000000e+00  "
      ]
     },
     "execution_count": 39,
     "metadata": {},
     "output_type": "execute_result"
    }
   ],
   "source": [
    "df.describe().T #veri setinin istatiksel özellikleri"
   ]
  },
  {
   "cell_type": "code",
   "execution_count": 43,
   "metadata": {},
   "outputs": [
    {
     "data": {
      "text/plain": [
       "count             1941\n",
       "unique               7\n",
       "top       Other_Faults\n",
       "freq               673\n",
       "Name: sinif, dtype: object"
      ]
     },
     "execution_count": 43,
     "metadata": {},
     "output_type": "execute_result"
    }
   ],
   "source": [
    "df['sinif'].describe() #hedef değişkenin (sinif) istatistiksel bilgileri"
   ]
  },
  {
   "cell_type": "code",
   "execution_count": 44,
   "metadata": {},
   "outputs": [
    {
     "name": "stdout",
     "output_type": "stream",
     "text": [
      "Other_Faults    673\n",
      "Bumps           402\n",
      "K_Scatch        391\n",
      "Z_Scratch       190\n",
      "Pastry          158\n",
      "Stains           72\n",
      "Dirtiness        55\n",
      "Name: sinif, dtype: int64\n"
     ]
    }
   ],
   "source": [
    "print(df['sinif'].value_counts()) # hedef değişkendeki sınıf içindeki örnek sayıları"
   ]
  },
  {
   "cell_type": "markdown",
   "metadata": {},
   "source": [
    "# Grafiksel Değerlendirmeler"
   ]
  },
  {
   "cell_type": "markdown",
   "metadata": {},
   "source": [
    "### a) Hedef değişkenin sınıf içindeki örnek sayıları"
   ]
  },
  {
   "cell_type": "code",
   "execution_count": 47,
   "metadata": {},
   "outputs": [
    {
     "data": {
      "text/plain": [
       "<matplotlib.axes._subplots.AxesSubplot at 0x1cb49aa0b70>"
      ]
     },
     "execution_count": 47,
     "metadata": {},
     "output_type": "execute_result"
    },
    {
     "data": {
      "image/png": "[encoded data removed]",
      "text/plain": [
       "<Figure size 1080x432 with 2 Axes>"
      ]
     },
     "metadata": {
      "needs_background": "light"
     },
     "output_type": "display_data"
    }
   ],
   "source": [
    "fig, ax=plt.subplots(1,2,figsize=(15,6))\n",
    "sns.countplot(x='sinif', data=df, ax=ax[0])\n",
    "df['sinif'].value_counts().plot.pie(autopct=\"%1.1f%%\", ax=ax[1])"
   ]
  },
  {
   "cell_type": "markdown",
   "metadata": {},
   "source": [
    "grafiklerde de görüldüğü üzere veri dengesiz dağılımlıdır çünkü bazı sınıflar diğer sınıflardan çok daha fazla örnek içermektedir. Bu gibi veri setlerinde daha iyi sonuc elde etmek için test ve train setini ayırırken sınıfları eşit oranda bölmemiz gerekmektedir."
   ]
  },
  {
   "cell_type": "markdown",
   "metadata": {},
   "source": [
    "### b) maximum parlaklık değerinini dağılımı"
   ]
  },
  {
   "cell_type": "code",
   "execution_count": 81,
   "metadata": {},
   "outputs": [
    {
     "data": {
      "image/png": "[encoded data removed]",
      "text/plain": [
       "<Figure size 432x288 with 1 Axes>"
      ]
     },
     "metadata": {
      "needs_background": "light"
     },
     "output_type": "display_data"
    }
   ],
   "source": [
    "import matplotlib.pyplot as plt\n",
    "df['Maximum_of_Luminosity'].plot.hist(title = \"Verinin max parlaklık dağılımını gösteren grafik\");\n",
    "plt.xlabel('Parlaklık');\n",
    "plt.ylabel('Frekans');"
   ]
  },
  {
   "cell_type": "markdown",
   "metadata": {},
   "source": [
    "### c) Max parlakıklık değerinin 100 den büyük 150 den küçük olduğu durumda sinif değişkeninin gözlem sayıları"
   ]
  },
  {
   "cell_type": "code",
   "execution_count": 95,
   "metadata": {},
   "outputs": [
    {
     "data": {
      "image/png": "[encoded data removed]",
      "text/plain": [
       "<Figure size 432x288 with 1 Axes>"
      ]
     },
     "metadata": {
      "needs_background": "light"
     },
     "output_type": "display_data"
    }
   ],
   "source": [
    "(df[(df['Maximum_of_Luminosity'] < 150) & (df['Maximum_of_Luminosity'] > 100)]['sinif']\n",
    " .value_counts()\n",
    " .plot.barh()\n",
    " .set_title('Max parlakıklık değerinin 100 den büyük 150 den küçük olduğu durumda sinif değişkeninin gözlem sayıları'));"
   ]
  },
  {
   "cell_type": "markdown",
   "metadata": {},
   "source": [
    "# Standartlaştırma ve Label Encoder"
   ]
  },
  {
   "cell_type": "markdown",
   "metadata": {},
   "source": [
    "verileri makine öğrenmesi algoritmalarına sokabilmemiz için standartlaştırma yapmamız ve sinif değişkenini sayısal olarak ifade etmemiz gerekiyor. "
   ]
  },
  {
   "cell_type": "code",
   "execution_count": 96,
   "metadata": {},
   "outputs": [],
   "source": [
    "lbe = preprocessing.LabelEncoder()"
   ]
  },
  {
   "cell_type": "code",
   "execution_count": 97,
   "metadata": {},
   "outputs": [],
   "source": [
    "df[\"sinif\"] = lbe.fit_transform(df[\"sinif\"])"
   ]
  },
  {
   "cell_type": "code",
   "execution_count": 98,
   "metadata": {},
   "outputs": [
    {
     "data": {
      "text/html": [
       "<div>\n",
       "<style scoped>\n",
       "    .dataframe tbody tr th:only-of-type {\n",
       "        vertical-align: middle;\n",
       "    }\n",
       "\n",
       "    .dataframe tbody tr th {\n",
       "        vertical-align: top;\n",
       "    }\n",
       "\n",
       "    .dataframe thead th {\n",
       "        text-align: right;\n",
       "    }\n",
       "</style>\n",
       "<table border=\"1\" class=\"dataframe\">\n",
       "  <thead>\n",
       "    <tr style=\"text-align: right;\">\n",
       "      <th></th>\n",
       "      <th>X_Minimum</th>\n",
       "      <th>X_Maximum</th>\n",
       "      <th>Y_Minimum</th>\n",
       "      <th>Y_Maximum</th>\n",
       "      <th>Pixels_Areas</th>\n",
       "      <th>X_Perimeter</th>\n",
       "      <th>Y_Perimeter</th>\n",
       "      <th>Sum_of_Luminosity</th>\n",
       "      <th>Minimum_of_Luminosity</th>\n",
       "      <th>Maximum_of_Luminosity</th>\n",
       "      <th>...</th>\n",
       "      <th>Edges_X_Index</th>\n",
       "      <th>Edges_Y_Index</th>\n",
       "      <th>Outside_Global_Index</th>\n",
       "      <th>LogOfAreas</th>\n",
       "      <th>Log_X_Index</th>\n",
       "      <th>Log_Y_Index</th>\n",
       "      <th>Orientation_Index</th>\n",
       "      <th>Luminosity_Index</th>\n",
       "      <th>SigmoidOfAreas</th>\n",
       "      <th>sinif</th>\n",
       "    </tr>\n",
       "  </thead>\n",
       "  <tbody>\n",
       "    <tr>\n",
       "      <th>0</th>\n",
       "      <td>42</td>\n",
       "      <td>50</td>\n",
       "      <td>270900</td>\n",
       "      <td>270944</td>\n",
       "      <td>267</td>\n",
       "      <td>17</td>\n",
       "      <td>44</td>\n",
       "      <td>24220</td>\n",
       "      <td>76</td>\n",
       "      <td>108</td>\n",
       "      <td>...</td>\n",
       "      <td>0.4706</td>\n",
       "      <td>1.0000</td>\n",
       "      <td>1.0</td>\n",
       "      <td>2.4265</td>\n",
       "      <td>0.9031</td>\n",
       "      <td>1.6435</td>\n",
       "      <td>0.8182</td>\n",
       "      <td>-0.2913</td>\n",
       "      <td>0.5822</td>\n",
       "      <td>4</td>\n",
       "    </tr>\n",
       "    <tr>\n",
       "      <th>1</th>\n",
       "      <td>645</td>\n",
       "      <td>651</td>\n",
       "      <td>2538079</td>\n",
       "      <td>2538108</td>\n",
       "      <td>108</td>\n",
       "      <td>10</td>\n",
       "      <td>30</td>\n",
       "      <td>11397</td>\n",
       "      <td>84</td>\n",
       "      <td>123</td>\n",
       "      <td>...</td>\n",
       "      <td>0.6000</td>\n",
       "      <td>0.9667</td>\n",
       "      <td>1.0</td>\n",
       "      <td>2.0334</td>\n",
       "      <td>0.7782</td>\n",
       "      <td>1.4624</td>\n",
       "      <td>0.7931</td>\n",
       "      <td>-0.1756</td>\n",
       "      <td>0.2984</td>\n",
       "      <td>4</td>\n",
       "    </tr>\n",
       "    <tr>\n",
       "      <th>2</th>\n",
       "      <td>829</td>\n",
       "      <td>835</td>\n",
       "      <td>1553913</td>\n",
       "      <td>1553931</td>\n",
       "      <td>71</td>\n",
       "      <td>8</td>\n",
       "      <td>19</td>\n",
       "      <td>7972</td>\n",
       "      <td>99</td>\n",
       "      <td>125</td>\n",
       "      <td>...</td>\n",
       "      <td>0.7500</td>\n",
       "      <td>0.9474</td>\n",
       "      <td>1.0</td>\n",
       "      <td>1.8513</td>\n",
       "      <td>0.7782</td>\n",
       "      <td>1.2553</td>\n",
       "      <td>0.6667</td>\n",
       "      <td>-0.1228</td>\n",
       "      <td>0.2150</td>\n",
       "      <td>4</td>\n",
       "    </tr>\n",
       "    <tr>\n",
       "      <th>3</th>\n",
       "      <td>853</td>\n",
       "      <td>860</td>\n",
       "      <td>369370</td>\n",
       "      <td>369415</td>\n",
       "      <td>176</td>\n",
       "      <td>13</td>\n",
       "      <td>45</td>\n",
       "      <td>18996</td>\n",
       "      <td>99</td>\n",
       "      <td>126</td>\n",
       "      <td>...</td>\n",
       "      <td>0.5385</td>\n",
       "      <td>1.0000</td>\n",
       "      <td>1.0</td>\n",
       "      <td>2.2455</td>\n",
       "      <td>0.8451</td>\n",
       "      <td>1.6532</td>\n",
       "      <td>0.8444</td>\n",
       "      <td>-0.1568</td>\n",
       "      <td>0.5212</td>\n",
       "      <td>4</td>\n",
       "    </tr>\n",
       "    <tr>\n",
       "      <th>4</th>\n",
       "      <td>1289</td>\n",
       "      <td>1306</td>\n",
       "      <td>498078</td>\n",
       "      <td>498335</td>\n",
       "      <td>2409</td>\n",
       "      <td>60</td>\n",
       "      <td>260</td>\n",
       "      <td>246930</td>\n",
       "      <td>37</td>\n",
       "      <td>126</td>\n",
       "      <td>...</td>\n",
       "      <td>0.2833</td>\n",
       "      <td>0.9885</td>\n",
       "      <td>1.0</td>\n",
       "      <td>3.3818</td>\n",
       "      <td>1.2305</td>\n",
       "      <td>2.4099</td>\n",
       "      <td>0.9338</td>\n",
       "      <td>-0.1992</td>\n",
       "      <td>1.0000</td>\n",
       "      <td>4</td>\n",
       "    </tr>\n",
       "  </tbody>\n",
       "</table>\n",
       "<p>5 rows × 28 columns</p>\n",
       "</div>"
      ],
      "text/plain": [
       "   X_Minimum  X_Maximum  Y_Minimum  Y_Maximum  Pixels_Areas  X_Perimeter  \\\n",
       "0         42         50     270900     270944           267           17   \n",
       "1        645        651    2538079    2538108           108           10   \n",
       "2        829        835    1553913    1553931            71            8   \n",
       "3        853        860     369370     369415           176           13   \n",
       "4       1289       1306     498078     498335          2409           60   \n",
       "\n",
       "   Y_Perimeter  Sum_of_Luminosity  Minimum_of_Luminosity  \\\n",
       "0           44              24220                     76   \n",
       "1           30              11397                     84   \n",
       "2           19               7972                     99   \n",
       "3           45              18996                     99   \n",
       "4          260             246930                     37   \n",
       "\n",
       "   Maximum_of_Luminosity  ...  Edges_X_Index  Edges_Y_Index  \\\n",
       "0                    108  ...         0.4706         1.0000   \n",
       "1                    123  ...         0.6000         0.9667   \n",
       "2                    125  ...         0.7500         0.9474   \n",
       "3                    126  ...         0.5385         1.0000   \n",
       "4                    126  ...         0.2833         0.9885   \n",
       "\n",
       "   Outside_Global_Index  LogOfAreas  Log_X_Index  Log_Y_Index  \\\n",
       "0                   1.0      2.4265       0.9031       1.6435   \n",
       "1                   1.0      2.0334       0.7782       1.4624   \n",
       "2                   1.0      1.8513       0.7782       1.2553   \n",
       "3                   1.0      2.2455       0.8451       1.6532   \n",
       "4                   1.0      3.3818       1.2305       2.4099   \n",
       "\n",
       "   Orientation_Index  Luminosity_Index  SigmoidOfAreas  sinif  \n",
       "0             0.8182           -0.2913          0.5822      4  \n",
       "1             0.7931           -0.1756          0.2984      4  \n",
       "2             0.6667           -0.1228          0.2150      4  \n",
       "3             0.8444           -0.1568          0.5212      4  \n",
       "4             0.9338           -0.1992          1.0000      4  \n",
       "\n",
       "[5 rows x 28 columns]"
      ]
     },
     "execution_count": 98,
     "metadata": {},
     "output_type": "execute_result"
    }
   ],
   "source": [
    "df.head()"
   ]
  },
  {
   "cell_type": "code",
   "execution_count": 99,
   "metadata": {},
   "outputs": [],
   "source": [
    "#bagimli ve bağimsiz değişkenleri ayırıyoruz.\n",
    "y = df[\"sinif\"] \n",
    "X = df.drop([\"sinif\"], axis = 1)"
   ]
  },
  {
   "cell_type": "code",
   "execution_count": 100,
   "metadata": {},
   "outputs": [],
   "source": [
    "#bağımsız değişkenleri standartlaştırıyoruz.\n",
    "sc = StandardScaler()\n",
    "X = sc.fit_transform(X)"
   ]
  },
  {
   "cell_type": "code",
   "execution_count": 101,
   "metadata": {},
   "outputs": [],
   "source": [
    "#standartlaştırma sonrası bozulan X leri DataFrame e çeviriyoruz\n",
    "X = pd.DataFrame(X, columns = df.columns.values[0:27])"
   ]
  },
  {
   "cell_type": "markdown",
   "metadata": {},
   "source": [
    "# Test-Train Ayırma İşlemleri"
   ]
  },
  {
   "cell_type": "code",
   "execution_count": 121,
   "metadata": {},
   "outputs": [],
   "source": [
    "X_train, X_test, y_train, y_test = train_test_split(X, y, \n",
    "                                                    test_size = 0.30,\n",
    "                                                    stratify=y,\n",
    "                                                    random_state = 42)"
   ]
  },
  {
   "cell_type": "markdown",
   "metadata": {},
   "source": [
    "sınıf oranları eşit olsun diye stratify argümanını 'y' olarak giriyoruz."
   ]
  },
  {
   "cell_type": "code",
   "execution_count": 140,
   "metadata": {},
   "outputs": [],
   "source": [
    "#bu fonksiyon konfüzyon matrisi ni çizer ve sınıflandırma raporunu yazar\n",
    "def draw_confusion_matrix(cm):\n",
    "    plt.figure(figsize=(12,8))\n",
    "    sns.heatmap(cm,annot=True,fmt=\"d\") \n",
    "    plt.title(\"Konfüzyon Matrisi\")\n",
    "    plt.ylabel('Gerçek Değerler')\n",
    "    plt.xlabel('Tahmin Değerler')\n",
    "    plt.show()\n",
    "    print('Sınıflandırma Raporu: \\n',classification_report(y_test,y_pred))"
   ]
  },
  {
   "cell_type": "markdown",
   "metadata": {},
   "source": [
    "# 1) Lojistik Regresyon"
   ]
  },
  {
   "cell_type": "code",
   "execution_count": 141,
   "metadata": {},
   "outputs": [
    {
     "data": {
      "text/plain": [
       "LogisticRegression(C=1.0, class_weight=None, dual=False, fit_intercept=True,\n",
       "                   intercept_scaling=1, l1_ratio=None, max_iter=100,\n",
       "                   multi_class='multinomial', n_jobs=None, penalty='l2',\n",
       "                   random_state=None, solver='newton-cg', tol=0.0001, verbose=0,\n",
       "                   warm_start=False)"
      ]
     },
     "execution_count": 141,
     "metadata": {},
     "output_type": "execute_result"
    }
   ],
   "source": [
    "loj = LogisticRegression(solver = \"newton-cg\", multi_class = \"multinomial\")\n",
    "loj_model = loj.fit(X_train,y_train)\n",
    "loj_model"
   ]
  },
  {
   "cell_type": "code",
   "execution_count": 142,
   "metadata": {},
   "outputs": [],
   "source": [
    "y_pred = loj_model.predict(X_test)"
   ]
  },
  {
   "cell_type": "code",
   "execution_count": 143,
   "metadata": {},
   "outputs": [
    {
     "data": {
      "text/plain": [
       "0.7186963979416809"
      ]
     },
     "execution_count": 143,
     "metadata": {},
     "output_type": "execute_result"
    }
   ],
   "source": [
    "accuracy_score(y_test, y_pred)"
   ]
  },
  {
   "cell_type": "code",
   "execution_count": 144,
   "metadata": {},
   "outputs": [
    {
     "data": {
      "image/png": "[encoded data removed]",
      "text/plain": [
       "<Figure size 864x576 with 2 Axes>"
      ]
     },
     "metadata": {
      "needs_background": "light"
     },
     "output_type": "display_data"
    },
    {
     "name": "stdout",
     "output_type": "stream",
     "text": [
      "Sınıflandırma Raporu: \n",
      "               precision    recall  f1-score   support\n",
      "\n",
      "           0       0.70      0.53      0.60       121\n",
      "           1       0.92      0.65      0.76        17\n",
      "           2       0.91      0.91      0.91       117\n",
      "           3       0.62      0.72      0.67       202\n",
      "           4       0.57      0.51      0.54        47\n",
      "           5       0.79      0.86      0.83        22\n",
      "           6       0.80      0.84      0.82        57\n",
      "\n",
      "    accuracy                           0.72       583\n",
      "   macro avg       0.76      0.72      0.73       583\n",
      "weighted avg       0.72      0.72      0.72       583\n",
      "\n"
     ]
    }
   ],
   "source": [
    "cm = confusion_matrix(y_test,y_pred)\n",
    "draw_confusion_matrix(cm)"
   ]
  },
  {
   "cell_type": "markdown",
   "metadata": {},
   "source": [
    "# 2) SVM"
   ]
  },
  {
   "cell_type": "code",
   "execution_count": 149,
   "metadata": {},
   "outputs": [],
   "source": [
    "svm_model = SVC(kernel = \"rbf\", C = 10, gamma = 0.1).fit(X_train, y_train)"
   ]
  },
  {
   "cell_type": "code",
   "execution_count": 150,
   "metadata": {},
   "outputs": [],
   "source": [
    "y_pred = svm_model.predict(X_test)"
   ]
  },
  {
   "cell_type": "code",
   "execution_count": 151,
   "metadata": {},
   "outputs": [
    {
     "data": {
      "text/plain": [
       "0.7598627787307033"
      ]
     },
     "execution_count": 151,
     "metadata": {},
     "output_type": "execute_result"
    }
   ],
   "source": [
    "accuracy_score(y_test, y_pred)"
   ]
  },
  {
   "cell_type": "code",
   "execution_count": 152,
   "metadata": {},
   "outputs": [
    {
     "data": {
      "image/png": "[encoded data removed]",
      "text/plain": [
       "<Figure size 864x576 with 2 Axes>"
      ]
     },
     "metadata": {
      "needs_background": "light"
     },
     "output_type": "display_data"
    },
    {
     "name": "stdout",
     "output_type": "stream",
     "text": [
      "Sınıflandırma Raporu: \n",
      "               precision    recall  f1-score   support\n",
      "\n",
      "           0       0.66      0.64      0.65       121\n",
      "           1       1.00      0.88      0.94        17\n",
      "           2       0.97      0.94      0.96       117\n",
      "           3       0.69      0.73      0.71       202\n",
      "           4       0.57      0.55      0.56        47\n",
      "           5       0.85      0.77      0.81        22\n",
      "           6       0.86      0.86      0.86        57\n",
      "\n",
      "    accuracy                           0.76       583\n",
      "   macro avg       0.80      0.77      0.78       583\n",
      "weighted avg       0.76      0.76      0.76       583\n",
      "\n"
     ]
    }
   ],
   "source": [
    "cm = confusion_matrix(y_test,y_pred)\n",
    "draw_confusion_matrix(cm)"
   ]
  },
  {
   "cell_type": "markdown",
   "metadata": {},
   "source": [
    "# 3) KNN"
   ]
  },
  {
   "cell_type": "code",
   "execution_count": 154,
   "metadata": {},
   "outputs": [
    {
     "data": {
      "text/plain": [
       "KNeighborsClassifier(algorithm='auto', leaf_size=30, metric='minkowski',\n",
       "                     metric_params=None, n_jobs=None, n_neighbors=11, p=2,\n",
       "                     weights='uniform')"
      ]
     },
     "execution_count": 154,
     "metadata": {},
     "output_type": "execute_result"
    }
   ],
   "source": [
    "knn = KNeighborsClassifier(11)\n",
    "knn_model = knn.fit(X_train, y_train)\n",
    "knn_model"
   ]
  },
  {
   "cell_type": "code",
   "execution_count": 155,
   "metadata": {},
   "outputs": [],
   "source": [
    "y_pred = knn_model.predict(X_test)"
   ]
  },
  {
   "cell_type": "code",
   "execution_count": 156,
   "metadata": {},
   "outputs": [
    {
     "data": {
      "text/plain": [
       "0.7221269296740995"
      ]
     },
     "execution_count": 156,
     "metadata": {},
     "output_type": "execute_result"
    }
   ],
   "source": [
    "accuracy_score(y_test, y_pred)"
   ]
  },
  {
   "cell_type": "code",
   "execution_count": 157,
   "metadata": {},
   "outputs": [
    {
     "data": {
      "image/png": "[encoded data removed]",
      "text/plain": [
       "<Figure size 864x576 with 2 Axes>"
      ]
     },
     "metadata": {
      "needs_background": "light"
     },
     "output_type": "display_data"
    },
    {
     "name": "stdout",
     "output_type": "stream",
     "text": [
      "Sınıflandırma Raporu: \n",
      "               precision    recall  f1-score   support\n",
      "\n",
      "           0       0.56      0.68      0.61       121\n",
      "           1       0.79      0.88      0.83        17\n",
      "           2       0.95      0.91      0.93       117\n",
      "           3       0.70      0.65      0.68       202\n",
      "           4       0.52      0.32      0.39        47\n",
      "           5       0.73      0.86      0.79        22\n",
      "           6       0.84      0.91      0.87        57\n",
      "\n",
      "    accuracy                           0.72       583\n",
      "   macro avg       0.73      0.74      0.73       583\n",
      "weighted avg       0.72      0.72      0.72       583\n",
      "\n"
     ]
    }
   ],
   "source": [
    "cm = confusion_matrix(y_test,y_pred)\n",
    "draw_confusion_matrix(cm)"
   ]
  },
  {
   "cell_type": "markdown",
   "metadata": {},
   "source": [
    "# 4) Karar Ağaçları"
   ]
  },
  {
   "cell_type": "code",
   "execution_count": 158,
   "metadata": {},
   "outputs": [],
   "source": [
    "cart = DecisionTreeClassifier()\n",
    "cart_model = cart.fit(X_train, y_train)"
   ]
  },
  {
   "cell_type": "code",
   "execution_count": 159,
   "metadata": {},
   "outputs": [],
   "source": [
    "y_pred = knn_model.predict(X_test)"
   ]
  },
  {
   "cell_type": "code",
   "execution_count": 160,
   "metadata": {},
   "outputs": [
    {
     "data": {
      "text/plain": [
       "0.7221269296740995"
      ]
     },
     "execution_count": 160,
     "metadata": {},
     "output_type": "execute_result"
    }
   ],
   "source": [
    "accuracy_score(y_test, y_pred)"
   ]
  },
  {
   "cell_type": "code",
   "execution_count": 161,
   "metadata": {},
   "outputs": [
    {
     "data": {
      "image/png": "[encoded data removed]",
      "text/plain": [
       "<Figure size 864x576 with 2 Axes>"
      ]
     },
     "metadata": {
      "needs_background": "light"
     },
     "output_type": "display_data"
    },
    {
     "name": "stdout",
     "output_type": "stream",
     "text": [
      "Sınıflandırma Raporu: \n",
      "               precision    recall  f1-score   support\n",
      "\n",
      "           0       0.56      0.68      0.61       121\n",
      "           1       0.79      0.88      0.83        17\n",
      "           2       0.95      0.91      0.93       117\n",
      "           3       0.70      0.65      0.68       202\n",
      "           4       0.52      0.32      0.39        47\n",
      "           5       0.73      0.86      0.79        22\n",
      "           6       0.84      0.91      0.87        57\n",
      "\n",
      "    accuracy                           0.72       583\n",
      "   macro avg       0.73      0.74      0.73       583\n",
      "weighted avg       0.72      0.72      0.72       583\n",
      "\n"
     ]
    }
   ],
   "source": [
    "cm = confusion_matrix(y_test,y_pred)\n",
    "draw_confusion_matrix(cm)"
   ]
  },
  {
   "cell_type": "markdown",
   "metadata": {},
   "source": [
    "# 5) YSA"
   ]
  },
  {
   "cell_type": "code",
   "execution_count": 163,
   "metadata": {},
   "outputs": [],
   "source": [
    "mlpc = MLPClassifier().fit(X_train, y_train)"
   ]
  },
  {
   "cell_type": "code",
   "execution_count": 164,
   "metadata": {},
   "outputs": [
    {
     "data": {
      "text/plain": [
       "0.7753001715265866"
      ]
     },
     "execution_count": 164,
     "metadata": {},
     "output_type": "execute_result"
    }
   ],
   "source": [
    "y_pred = mlpc.predict(X_test)\n",
    "accuracy_score(y_test, y_pred)"
   ]
  },
  {
   "cell_type": "code",
   "execution_count": 165,
   "metadata": {},
   "outputs": [
    {
     "data": {
      "image/png": "[encoded data removed]",
      "text/plain": [
       "<Figure size 864x576 with 2 Axes>"
      ]
     },
     "metadata": {
      "needs_background": "light"
     },
     "output_type": "display_data"
    },
    {
     "name": "stdout",
     "output_type": "stream",
     "text": [
      "Sınıflandırma Raporu: \n",
      "               precision    recall  f1-score   support\n",
      "\n",
      "           0       0.70      0.64      0.67       121\n",
      "           1       0.86      0.71      0.77        17\n",
      "           2       0.97      0.93      0.95       117\n",
      "           3       0.70      0.76      0.73       202\n",
      "           4       0.68      0.64      0.66        47\n",
      "           5       0.86      0.86      0.86        22\n",
      "           6       0.83      0.88      0.85        57\n",
      "\n",
      "    accuracy                           0.78       583\n",
      "   macro avg       0.80      0.77      0.79       583\n",
      "weighted avg       0.78      0.78      0.78       583\n",
      "\n"
     ]
    }
   ],
   "source": [
    "cm = confusion_matrix(y_test,y_pred)\n",
    "draw_confusion_matrix(cm)"
   ]
  },
  {
   "cell_type": "markdown",
   "metadata": {},
   "source": [
    "# Sonuçların Karşılaştırılması"
   ]
  },
  {
   "cell_type": "code",
   "execution_count": 166,
   "metadata": {},
   "outputs": [
    {
     "name": "stdout",
     "output_type": "stream",
     "text": [
      "----------------------------\n",
      "LogisticRegression:\n",
      "Accuracy: 71.8696%\n",
      "----------------------------\n",
      "SVC:\n",
      "Accuracy: 75.9863%\n",
      "----------------------------\n",
      "KNeighborsClassifier:\n",
      "Accuracy: 72.2127%\n",
      "----------------------------\n",
      "MLPClassifier:\n",
      "Accuracy: 77.5300%\n",
      "----------------------------\n",
      "DecisionTreeClassifier:\n",
      "Accuracy: 68.2676%\n"
     ]
    }
   ],
   "source": [
    "modeller = [\n",
    "    loj_model,\n",
    "    svm_model,\n",
    "    knn_model,\n",
    "    mlpc,\n",
    "    cart_model\n",
    "]\n",
    "\n",
    "\n",
    "for model in modeller:\n",
    "    isimler = model.__class__.__name__\n",
    "    y_pred = model.predict(X_test)\n",
    "    dogruluk = accuracy_score(y_test, y_pred)\n",
    "    print(\"-\"*28)\n",
    "    print(isimler + \":\" )\n",
    "    print(\"Accuracy: {:.4%}\".format(dogruluk))"
   ]
  },
  {
   "cell_type": "code",
   "execution_count": 167,
   "metadata": {},
   "outputs": [
    {
     "data": {
      "image/png": "[encoded data removed]",
      "text/plain": [
       "<Figure size 432x288 with 1 Axes>"
      ]
     },
     "metadata": {
      "needs_background": "light"
     },
     "output_type": "display_data"
    }
   ],
   "source": [
    "sonuc = []\n",
    "\n",
    "sonuclar = pd.DataFrame(columns= [\"Modeller\",\"Accuracy\"])\n",
    "\n",
    "for model in modeller:\n",
    "    isimler = model.__class__.__name__\n",
    "    y_pred = model.predict(X_test)\n",
    "    dogruluk = accuracy_score(y_test, y_pred)    \n",
    "    sonuc = pd.DataFrame([[isimler, dogruluk*100]], columns= [\"Modeller\",\"Accuracy\"])\n",
    "    sonuclar = sonuclar.append(sonuc)\n",
    "    \n",
    "    \n",
    "sns.barplot(x= 'Accuracy', y = 'Modeller', data=sonuclar, color=\"r\")\n",
    "plt.xlabel('Accuracy %')\n",
    "plt.title('Modellerin Doğruluk Oranları');  "
   ]
  },
  {
   "cell_type": "code",
   "execution_count": null,
   "metadata": {},
   "outputs": [],
   "source": []
  }
 ],
 "metadata": {
  "kernelspec": {
   "display_name": "Python 3",
   "language": "python",
   "name": "python3"
  },
  "language_info": {
   "codemirror_mode": {
    "name": "ipython",
    "version": 3
   },
   "file_extension": ".py",
   "mimetype": "text/x-python",
   "name": "python",
   "nbconvert_exporter": "python",
   "pygments_lexer": "ipython3",
   "version": "3.7.3"
  }
 },
 "nbformat": 4,
 "nbformat_minor": 2
}
